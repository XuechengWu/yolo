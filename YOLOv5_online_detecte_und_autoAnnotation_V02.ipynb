{
  "nbformat": 4,
  "nbformat_minor": 0,
  "metadata": {
    "colab": {
      "name": "YOLOv5_online_detecte_und_autoAnnotation_V02.ipynb",
      "provenance": [],
      "collapsed_sections": [
        "XpcebIBl6old",
        "7mGmQbAO5pQb",
        "4JnkELT0cIJg",
        "VH5n4O6F7DVM"
      ],
      "machine_shape": "hm",
      "include_colab_link": true
    },
    "kernelspec": {
      "name": "python3",
      "display_name": "Python 3"
    },
    "accelerator": "GPU",
    "gpuClass": "standard"
  },
  "cells": [
    {
      "cell_type": "markdown",
      "metadata": {
        "id": "view-in-github",
        "colab_type": "text"
      },
      "source": [
        "<a href=\"https://colab.research.google.com/github/XuechengWu/yolo/blob/main/YOLOv5_online_detecte_und_autoAnnotation_V02.ipynb\" target=\"_parent\"><img src=\"https://colab.research.google.com/assets/colab-badge.svg\" alt=\"Open In Colab\"/></a>"
      ]
    },
    {
      "cell_type": "markdown",
      "source": [
        "# Google Drive Link"
      ],
      "metadata": {
        "id": "XpcebIBl6old"
      }
    },
    {
      "cell_type": "code",
      "source": [
        "from google.colab import drive\n",
        "drive.mount('/content/drive')"
      ],
      "metadata": {
        "id": "Wgy7xVzzNa6L",
        "outputId": "3f41bd67-76a8-439c-8de5-b63b316e9bd5",
        "colab": {
          "base_uri": "https://localhost:8080/"
        }
      },
      "execution_count": 1,
      "outputs": [
        {
          "output_type": "stream",
          "name": "stdout",
          "text": [
            "Mounted at /content/drive\n"
          ]
        }
      ]
    },
    {
      "cell_type": "markdown",
      "metadata": {
        "id": "7mGmQbAO5pQb"
      },
      "source": [
        "# Allgemein Setup"
      ]
    },
    {
      "cell_type": "code",
      "metadata": {
        "id": "wbvMlHd_QwMG",
        "colab": {
          "base_uri": "https://localhost:8080/"
        },
        "outputId": "4d8bb0bf-3932-48aa-c65c-3043bd651208"
      },
      "source": [
        "!wget https://dl-web.dropbox.com/s/fhg7l06klfu2qu0/yolov5-master.zip  # clone\n",
        "!unzip yolov5-master.zip\n",
        "%cd yolov5-master\n",
        "%pip install -qr requirements.txt  # install\n",
        "\n",
        "import torch\n",
        "import utils\n",
        "display = utils.notebook_init()  # checks"
      ],
      "execution_count": 2,
      "outputs": [
        {
          "output_type": "stream",
          "name": "stderr",
          "text": [
            "YOLOv5 🚀 2022-5-31 Python-3.7.13 torch-1.11.0+cu113 CUDA:0 (Tesla T4, 15110MiB)\n"
          ]
        },
        {
          "output_type": "stream",
          "name": "stdout",
          "text": [
            "Setup complete ✅ (2 CPUs, 12.7 GB RAM, 38.8/78.2 GB disk)\n"
          ]
        }
      ]
    },
    {
      "cell_type": "code",
      "source": [
        "!nvidia-smi"
      ],
      "metadata": {
        "id": "Bfk7G9fecEcU",
        "colab": {
          "base_uri": "https://localhost:8080/"
        },
        "outputId": "27957664-b387-4605-926c-8ebfc3d5f7a2"
      },
      "execution_count": 3,
      "outputs": [
        {
          "output_type": "stream",
          "name": "stdout",
          "text": [
            "Sat Jul  9 22:29:06 2022       \n",
            "+-----------------------------------------------------------------------------+\n",
            "| NVIDIA-SMI 460.32.03    Driver Version: 460.32.03    CUDA Version: 11.2     |\n",
            "|-------------------------------+----------------------+----------------------+\n",
            "| GPU  Name        Persistence-M| Bus-Id        Disp.A | Volatile Uncorr. ECC |\n",
            "| Fan  Temp  Perf  Pwr:Usage/Cap|         Memory-Usage | GPU-Util  Compute M. |\n",
            "|                               |                      |               MIG M. |\n",
            "|===============================+======================+======================|\n",
            "|   0  Tesla T4            Off  | 00000000:00:04.0 Off |                    0 |\n",
            "| N/A   43C    P8     9W /  70W |      3MiB / 15109MiB |      0%      Default |\n",
            "|                               |                      |                  N/A |\n",
            "+-------------------------------+----------------------+----------------------+\n",
            "                                                                               \n",
            "+-----------------------------------------------------------------------------+\n",
            "| Processes:                                                                  |\n",
            "|  GPU   GI   CI        PID   Type   Process name                  GPU Memory |\n",
            "|        ID   ID                                                   Usage      |\n",
            "|=============================================================================|\n",
            "|  No running processes found                                                 |\n",
            "+-----------------------------------------------------------------------------+\n"
          ]
        }
      ]
    },
    {
      "cell_type": "code",
      "source": [
        "import os\n",
        "import shutil\n",
        "\n",
        "# srcfile 需要复制、移动的文件   \n",
        "# dstpath 目的地址\n",
        " \n",
        "def mycopyfile(srcfile,dstpath):                       # 复制函数\n",
        "    if not os.path.isfile(srcfile):\n",
        "        print (\"%s not exist!\"%(srcfile))\n",
        "    else:\n",
        "        fpath,fname=os.path.split(srcfile)             # 分离文件名和路径\n",
        "        if not os.path.exists(dstpath):\n",
        "            os.makedirs(dstpath)                       # 创建路径\n",
        "        shutil.copy(srcfile, dstpath + fname)          # 复制文件\n",
        "        print (\"copy %s -> %s\"%(srcfile, dstpath + fname))\n",
        " \n",
        " \n",
        "# src_dir = './'"
      ],
      "metadata": {
        "id": "8Tl8iLXIV54_"
      },
      "execution_count": 4,
      "outputs": []
    },
    {
      "cell_type": "code",
      "source": [
        "import os\n",
        "import shutil \n",
        "\n",
        "def copy_allfiles(src,dest):\n",
        "#src:原文件夹；dest:目标文件夹\n",
        "  src_files = os.listdir(src)\n",
        "  for file_name in src_files:\n",
        "    full_file_name = os.path.join(src, file_name)\n",
        "    if os.path.isfile(full_file_name):\n",
        "        shutil.copy(full_file_name, dest)\n"
      ],
      "metadata": {
        "id": "HN9Ar7TWU6HW"
      },
      "execution_count": 5,
      "outputs": []
    },
    {
      "cell_type": "code",
      "source": [
        "import os\n",
        "\n",
        "def delete_space(buff_dir):\n",
        "    for files_name in os.listdir(buff_dir):\n",
        "        if len(files_name.split(\" \")) >1:\n",
        "            os.rename(os.path.join(buff_dir,files_name),\n",
        "                      os.path.join(buff_dir,files_name.replace(\" \",\"_\")))\n",
        "            print(os.path.join(buff_dir,files_name.replace(\" \",\"_\")))\n"
      ],
      "metadata": {
        "id": "MC-TeskIhMdA"
      },
      "execution_count": 6,
      "outputs": []
    },
    {
      "cell_type": "code",
      "source": [
        "import os\n",
        "import zipfile\n",
        " \n",
        " \n",
        "def zipDir(dirpath, outFullName):\n",
        "    \"\"\"\n",
        "    压缩指定文件夹\n",
        "    :param dirpath: 目标文件夹路径\n",
        "    :param outFullName: 压缩文件保存路径+xxxx.zip\n",
        "    :return: 无\n",
        "    \"\"\"\n",
        "    zip = zipfile.ZipFile(outFullName, \"w\", zipfile.ZIP_DEFLATED)\n",
        "    for path, dirnames, filenames in os.walk(dirpath):\n",
        "        # 去掉目标跟路径，只对目标文件夹下边的文件及文件夹进行压缩\n",
        "        fpath = path.replace(dirpath, '')\n",
        " \n",
        "        for filename in filenames:\n",
        "            zip.write(os.path.join(path, filename), os.path.join(fpath, filename))\n",
        "    zip.close()"
      ],
      "metadata": {
        "id": "WTKKtG8_dU-8"
      },
      "execution_count": 7,
      "outputs": []
    },
    {
      "cell_type": "markdown",
      "source": [
        "# 半自动标注\n",
        "* 1.如果要半自动标注，则需要更改detect.py程序。\n",
        "```shell\n",
        "parser.add_argument('--weights', nargs='+', type=str, default='best.pt', help='model.pt path(s)') \n",
        " #default=改成你的模型\n",
        "parser.add_argument('--source', type=str, default='data/images', help='source') \n",
        " # file/folder, 0 for webcam  default= 改成你放图片的路径\n",
        "```\n",
        "\n",
        "* 2.启用保存txt文件的程序\n",
        "```shell\n",
        "python detect.py --save-txt\n",
        "```\n",
        "* 3.程序会将生成的txt文件放在runs\\detect\\exp1\\labels这个目录下,将其打包下载。\n",
        "\n",
        "* 4.需要在runs\\detect\\exp1\\labels这个目录里加一个classes.txt(里面写你分类，分类竖着写)。\n",
        "```shell\n",
        "Laser\n",
        "Oel\n",
        "Brennung\n",
        "```"
      ],
      "metadata": {
        "id": "TnQGH54bLihf"
      }
    },
    {
      "cell_type": "code",
      "source": [
        "!python detect.py --save-txt"
      ],
      "metadata": {
        "id": "6YecFEvELwlu"
      },
      "execution_count": null,
      "outputs": []
    },
    {
      "cell_type": "markdown",
      "metadata": {
        "id": "4JnkELT0cIJg"
      },
      "source": [
        "# Bearbeiten mit .pt Weight\n",
        "saving results to `runs/detect`. Example inference sources are:\n",
        "\n",
        "```shell\n",
        "python detect.py --source 0  # webcam\n",
        "                          img.jpg  # image \n",
        "                          vid.mp4  # video\n",
        "                          path/  # directory\n",
        "                          path/*.jpg  # glob\n",
        "                          'https://youtu.be/Zgi9g1ksQHc'  # YouTube\n",
        "                          'rtsp://example.com/media.mp4'  # RTSP, RTMP, HTTP stream\n",
        "```\n"
      ]
    },
    {
      "cell_type": "code",
      "source": [
        "# download weight.pt\n",
        "# !wget https://dl-web.dropbox.com/s/f5psunxkn1ic2yj/best.pt\n",
        "mycopyfile('/content/best.pt', '/content/yolov5-master/')"
      ],
      "metadata": {
        "id": "nUVvD9hlWPBw",
        "colab": {
          "base_uri": "https://localhost:8080/"
        },
        "outputId": "7e87a1d1-bee4-437e-ca23-91c195b85cfe"
      },
      "execution_count": 9,
      "outputs": [
        {
          "output_type": "stream",
          "name": "stdout",
          "text": [
            "copy /content/best.pt -> /content/yolov5-master/best.pt\n"
          ]
        }
      ]
    },
    {
      "cell_type": "code",
      "source": [
        "# # download oringinal weight\n",
        "\n",
        "mycopyfile('/content/drive/MyDrive/Master_Abschlussarbeit/modellErgebnis/best.pt', '/content/')"
      ],
      "metadata": {
        "colab": {
          "base_uri": "https://localhost:8080/"
        },
        "id": "Bp-EQ9vvW0UM",
        "outputId": "aa16f460-c427-435b-81d1-816226fe3ba1"
      },
      "execution_count": 8,
      "outputs": [
        {
          "output_type": "stream",
          "name": "stdout",
          "text": [
            "copy /content/drive/MyDrive/Master_Abschlussarbeit/modellErgebnis/best.pt -> /content/best.pt\n"
          ]
        }
      ]
    },
    {
      "cell_type": "code",
      "source": [
        "copy_allfiles('/content/drive/MyDrive/Abschlussarbeit/ImageMaterial/', '/content/')"
      ],
      "metadata": {
        "id": "B4EopjvXVBof"
      },
      "execution_count": null,
      "outputs": []
    },
    {
      "cell_type": "code",
      "source": [
        "delete_space(\"/content\")"
      ],
      "metadata": {
        "id": "svInuvRkhQ-z"
      },
      "execution_count": null,
      "outputs": []
    },
    {
      "cell_type": "code",
      "metadata": {
        "id": "zR9ZbuQCH7FX"
      },
      "source": [
        "# Video bearbeiten\n",
        "# weight.pt nutzen \n",
        "!python detect.py --weights best.pt --img 640 --conf 0.5 --source /content/yolov5-master/AllesImageAusVideo/"
      ],
      "execution_count": null,
      "outputs": []
    },
    {
      "cell_type": "markdown",
      "source": [
        "# Herunterladen Video Ergebnis"
      ],
      "metadata": {
        "id": "VH5n4O6F7DVM"
      }
    },
    {
      "cell_type": "code",
      "source": [
        "# download Bearbeitet_Video\n",
        "\n",
        "mycopyfile( '/content/yolov5-master/runs/detect/exp5/SCA_Professor_v2.9.4_[V1_Points-Density-Hight.fab]_2022-04-07_08-43-19.mp4', '/content/drive/MyDrive/Abschlussarbeit/videoErgebnis/')"
      ],
      "metadata": {
        "id": "G-E0mwMFSWSf",
        "colab": {
          "base_uri": "https://localhost:8080/"
        },
        "outputId": "1f9315cc-5220-460d-e59b-951d7aa1d6c2"
      },
      "execution_count": null,
      "outputs": [
        {
          "output_type": "stream",
          "name": "stdout",
          "text": [
            "copy /content/yolov5-master/runs/detect/exp5/SCA_Professor_v2.9.4_[V1_Points-Density-Hight.fab]_2022-04-07_08-43-19.mp4 -> /content/drive/MyDrive/Abschlussarbeit/videoErgebnis/SCA_Professor_v2.9.4_[V1_Points-Density-Hight.fab]_2022-04-07_08-43-19.mp4\n"
          ]
        }
      ]
    },
    {
      "cell_type": "markdown",
      "source": [
        "# Command"
      ],
      "metadata": {
        "id": "gj2A7qIEYb70"
      }
    },
    {
      "cell_type": "code",
      "source": [
        "!unzip /content/allesImage.zip"
      ],
      "metadata": {
        "id": "3afOyTvDYfnL"
      },
      "execution_count": null,
      "outputs": []
    },
    {
      "cell_type": "code",
      "source": [
        "copy_allfiles('/content/yolov5-master/runs/detect/exp2', '/content/drive/MyDrive/Abschlussarbeit/ImageErgebnis')"
      ],
      "metadata": {
        "id": "6EZmNcGqcA4m"
      },
      "execution_count": null,
      "outputs": []
    },
    {
      "cell_type": "code",
      "source": [
        "zipDir('/content/yolov5-master/runs/detect/exp2', '/content/exp22022.07.10.zip')"
      ],
      "metadata": {
        "id": "5trp-Oiicybg"
      },
      "execution_count": 14,
      "outputs": []
    },
    {
      "cell_type": "code",
      "source": [
        "mycopyfile('/content/exp22022.07.10.zip', '/content/drive/MyDrive/Master_Abschlussarbeit/imageErgebnis/')"
      ],
      "metadata": {
        "colab": {
          "base_uri": "https://localhost:8080/"
        },
        "id": "_Gm4V0h6d3YW",
        "outputId": "7e779706-f2e7-41b0-9bc4-4d657648c7a3"
      },
      "execution_count": 15,
      "outputs": [
        {
          "output_type": "stream",
          "name": "stdout",
          "text": [
            "copy /content/exp22022.07.10.zip -> /content/drive/MyDrive/Master_Abschlussarbeit/imageErgebnis/exp22022.07.10.zip\n"
          ]
        }
      ]
    }
  ]
}