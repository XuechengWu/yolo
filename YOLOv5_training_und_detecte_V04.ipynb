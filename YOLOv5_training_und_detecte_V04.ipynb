{
  "nbformat": 4,
  "nbformat_minor": 0,
  "metadata": {
    "colab": {
      "name": "YOLOv5_training_und_detecte_V04.ipynb",
      "provenance": [],
      "collapsed_sections": [],
      "machine_shape": "hm",
      "include_colab_link": true
    },
    "kernelspec": {
      "name": "python3",
      "display_name": "Python 3"
    },
    "accelerator": "GPU",
    "gpuClass": "standard"
  },
  "cells": [
    {
      "cell_type": "markdown",
      "metadata": {
        "id": "view-in-github",
        "colab_type": "text"
      },
      "source": [
        "<a href=\"https://colab.research.google.com/github/XuechengWu/yolo/blob/main/YOLOv5_training_und_detecte_V04.ipynb\" target=\"_parent\"><img src=\"https://colab.research.google.com/assets/colab-badge.svg\" alt=\"Open In Colab\"/></a>"
      ]
    },
    {
      "cell_type": "markdown",
      "metadata": {
        "id": "7mGmQbAO5pQb"
      },
      "source": [
        "# Allgemein Setup"
      ]
    },
    {
      "cell_type": "code",
      "metadata": {
        "id": "wbvMlHd_QwMG",
        "colab": {
          "base_uri": "https://localhost:8080/"
        },
        "outputId": "46ea9bf9-858f-4f08-b9a8-a2e33dae5f54"
      },
      "source": [
        "!git clone https://github.com/ultralytics/yolov5  # clone\n",
        "%cd yolov5\n",
        "%pip install -qr requirements.txt  # install\n",
        "\n",
        "import torch\n",
        "import utils\n",
        "display = utils.notebook_init()  # checks"
      ],
      "execution_count": 1,
      "outputs": [
        {
          "output_type": "stream",
          "name": "stderr",
          "text": [
            "YOLOv5 🚀 v6.1-292-g0414637 Python-3.7.13 torch-1.11.0+cu113 CUDA:0 (Tesla T4, 15110MiB)\n"
          ]
        },
        {
          "output_type": "stream",
          "name": "stdout",
          "text": [
            "Setup complete ✅ (2 CPUs, 12.7 GB RAM, 38.8/78.2 GB disk)\n"
          ]
        }
      ]
    },
    {
      "cell_type": "code",
      "source": [
        "!nvidia-smi"
      ],
      "metadata": {
        "id": "Bfk7G9fecEcU",
        "colab": {
          "base_uri": "https://localhost:8080/"
        },
        "outputId": "a17048a7-5a72-41eb-e4cd-944a98aca6c3"
      },
      "execution_count": 2,
      "outputs": [
        {
          "output_type": "stream",
          "name": "stdout",
          "text": [
            "Tue Jul 12 11:18:06 2022       \n",
            "+-----------------------------------------------------------------------------+\n",
            "| NVIDIA-SMI 460.32.03    Driver Version: 460.32.03    CUDA Version: 11.2     |\n",
            "|-------------------------------+----------------------+----------------------+\n",
            "| GPU  Name        Persistence-M| Bus-Id        Disp.A | Volatile Uncorr. ECC |\n",
            "| Fan  Temp  Perf  Pwr:Usage/Cap|         Memory-Usage | GPU-Util  Compute M. |\n",
            "|                               |                      |               MIG M. |\n",
            "|===============================+======================+======================|\n",
            "|   0  Tesla T4            Off  | 00000000:00:04.0 Off |                    0 |\n",
            "| N/A   43C    P8     9W /  70W |      3MiB / 15109MiB |      0%      Default |\n",
            "|                               |                      |                  N/A |\n",
            "+-------------------------------+----------------------+----------------------+\n",
            "                                                                               \n",
            "+-----------------------------------------------------------------------------+\n",
            "| Processes:                                                                  |\n",
            "|  GPU   GI   CI        PID   Type   Process name                  GPU Memory |\n",
            "|        ID   ID                                                   Usage      |\n",
            "|=============================================================================|\n",
            "|  No running processes found                                                 |\n",
            "+-----------------------------------------------------------------------------+\n"
          ]
        }
      ]
    },
    {
      "cell_type": "markdown",
      "source": [
        "# 自制函数\n",
        "```\n",
        "mycopyfile(需要复制移动的文件, 目的地址)\n",
        "\n",
        "zipDir(目标文件夹路径, 压缩文件保存路径+xxxx.zip)\n",
        "\n",
        "copy_allfiles(原文件夹, 目标文件夹)\n",
        "\n",
        "delete_space(目标所在的文件夹)\n",
        "\n",
        "```"
      ],
      "metadata": {
        "id": "RowJsBMqKrTE"
      }
    },
    {
      "cell_type": "code",
      "source": [
        "import os\n",
        "import shutil\n",
        "\n",
        "# srcfile 需要复制、移动的文件   \n",
        "# dstpath 目的地址\n",
        " \n",
        "def mycopyfile(srcfile,dstpath):                       # 复制函数\n",
        "    if not os.path.isfile(srcfile):\n",
        "        print (\"%s not exist!\"%(srcfile))\n",
        "    else:\n",
        "        fpath,fname=os.path.split(srcfile)             # 分离文件名和路径\n",
        "        if not os.path.exists(dstpath):\n",
        "            os.makedirs(dstpath)                       # 创建路径\n",
        "        shutil.copy(srcfile, dstpath + fname)          # 复制文件\n",
        "        print (\"copy %s -> %s\"%(srcfile, dstpath + fname))\n",
        " \n",
        " \n",
        "# src_dir = './'"
      ],
      "metadata": {
        "id": "8Tl8iLXIV54_"
      },
      "execution_count": null,
      "outputs": []
    },
    {
      "cell_type": "code",
      "source": [
        "import os\n",
        "import zipfile\n",
        " \n",
        " \n",
        "def zipDir(dirpath, outFullName):\n",
        "    \"\"\"\n",
        "    压缩指定文件夹\n",
        "    :param dirpath: 目标文件夹路径\n",
        "    :param outFullName: 压缩文件保存路径+xxxx.zip\n",
        "    :return: 无\n",
        "    \"\"\"\n",
        "    zip = zipfile.ZipFile(outFullName, \"w\", zipfile.ZIP_DEFLATED)\n",
        "    for path, dirnames, filenames in os.walk(dirpath):\n",
        "        # 去掉目标跟路径，只对目标文件夹下边的文件及文件夹进行压缩\n",
        "        fpath = path.replace(dirpath, '')\n",
        " \n",
        "        for filename in filenames:\n",
        "            zip.write(os.path.join(path, filename), os.path.join(fpath, filename))\n",
        "    zip.close()"
      ],
      "metadata": {
        "id": "9jlFU4YV5cKz"
      },
      "execution_count": null,
      "outputs": []
    },
    {
      "cell_type": "code",
      "source": [
        "import os\n",
        "import shutil \n",
        "\n",
        "def copy_allfiles(src,dest):\n",
        "#src:原文件夹；dest:目标文件夹\n",
        "  src_files = os.listdir(src)\n",
        "  for file_name in src_files:\n",
        "    full_file_name = os.path.join(src, file_name)\n",
        "    if os.path.isfile(full_file_name):\n",
        "        shutil.copy(full_file_name, dest)\n"
      ],
      "metadata": {
        "id": "1janoa6BKNmv"
      },
      "execution_count": null,
      "outputs": []
    },
    {
      "cell_type": "code",
      "source": [
        "import os\n",
        "\n",
        "def delete_space(buff_dir):\n",
        "#buff_dir:目标所在的文件夹\n",
        "    for files_name in os.listdir(buff_dir):\n",
        "        if len(files_name.split(\" \")) >1:\n",
        "            os.rename(os.path.join(buff_dir,files_name),\n",
        "                      os.path.join(buff_dir,files_name.replace(\" \",\"_\")))\n",
        "            print(os.path.join(buff_dir,files_name.replace(\" \",\"_\")))\n"
      ],
      "metadata": {
        "id": "R_1MpBWwKPZX"
      },
      "execution_count": 4,
      "outputs": []
    },
    {
      "cell_type": "code",
      "source": [
        "# !unzip /content/allesImage.zip\n"
      ],
      "metadata": {
        "id": "1q_SKAQ5KgCZ"
      },
      "execution_count": 10,
      "outputs": []
    },
    {
      "cell_type": "markdown",
      "source": [
        "# Drive Import"
      ],
      "metadata": {
        "id": "Y0ad-0-Rd4Jo"
      }
    },
    {
      "cell_type": "code",
      "source": [
        "from google.colab import drive\n",
        "drive.mount('/content/drive')"
      ],
      "metadata": {
        "id": "Wgy7xVzzNa6L"
      },
      "execution_count": null,
      "outputs": []
    },
    {
      "cell_type": "markdown",
      "source": [
        "# 下载数据集"
      ],
      "metadata": {
        "id": "g01KbPv4VRMm"
      }
    },
    {
      "cell_type": "code",
      "source": [
        "# upload data_set\n",
        "mycopyfile( '/content/drive/MyDrive/Master_Abschlussarbeit/allesDataSet.zip' , '/content/' )"
      ],
      "metadata": {
        "id": "IouPQN25bv5I"
      },
      "execution_count": null,
      "outputs": []
    },
    {
      "cell_type": "code",
      "source": [
        "# unzip data_set\n",
        "!unzip /content/allesDataSet.zip"
      ],
      "metadata": {
        "id": "cJ9BwVpsVQfy"
      },
      "execution_count": null,
      "outputs": []
    },
    {
      "cell_type": "markdown",
      "metadata": {
        "id": "ZY2VXXXu74w5"
      },
      "source": [
        "# 1. Train\n",
        "1. data_set herstellen\n",
        "2. data_set upload und unzip\n",
        "3. coco128.yaml verändern:/content/yolov5/data/coco128.yaml\n",
        "\n",
        "```\n",
        "path: /content/yolov5/dataset  # dataset root dir\n",
        "train: images/train  # train images (relative to 'path') 128 images\n",
        "val: images/val  # val images (relative to 'path') 128 images\n",
        "# Classes\n",
        "nc: 3  # number of classes\n",
        "names: ['Laser', 'Oel', 'Brennung']  # class names\n",
        "```\n",
        "4. 将/content/yolov5/models/yolov5s.yaml中的nc修改\n",
        "5. epoch and batch verändern：--img 640/1280, --batch 16/32/64, --epochs 80/100/200/300"
      ]
    },
    {
      "cell_type": "code",
      "metadata": {
        "id": "1NcFxRcFdJ_O"
      },
      "source": [
        "# --img 640/1280, --batch 16/32/64, --epochs 80/100/200/300\n",
        "!python train.py --img 640 --batch 16 --epochs 100 --data coco128.yaml --weights yolov5m.pt --cache"
      ],
      "execution_count": null,
      "outputs": []
    },
    {
      "cell_type": "markdown",
      "source": [
        "# 模型检查"
      ],
      "metadata": {
        "id": "Z4454-qiJr5t"
      }
    },
    {
      "cell_type": "code",
      "metadata": {
        "id": "bOy5KI2ncnWd"
      },
      "source": [
        "# # Tensorboard  (optional)\n",
        "# %load_ext tensorboard\n",
        "# %tensorboard --logdir runs/train"
      ],
      "execution_count": null,
      "outputs": []
    },
    {
      "cell_type": "code",
      "metadata": {
        "id": "2fLAV42oNb7M"
      },
      "source": [
        "# Weights & Biases  (optional)\n",
        "%pip install -q wandb\n",
        "import wandb\n",
        "wandb.login()"
      ],
      "execution_count": null,
      "outputs": []
    },
    {
      "cell_type": "markdown",
      "source": [
        "# 下载结果"
      ],
      "metadata": {
        "id": "s3eoMakKgA0d"
      }
    },
    {
      "cell_type": "code",
      "source": [
        "zipDir('/content/yolov5/yolov5/runs/train/exp', '/content/drive/MyDrive/Master_Abschlussarbeit/modellErgebnis/2022_07_12_ergebnis.zip')"
      ],
      "metadata": {
        "id": "WDbZDIKtgAKf"
      },
      "execution_count": null,
      "outputs": []
    },
    {
      "cell_type": "markdown",
      "metadata": {
        "id": "4JnkELT0cIJg"
      },
      "source": [
        "# 2. Detect mit .pt Weight\n",
        "saving results to `runs/detect`. Example inference sources are:\n",
        "\n",
        "```shell\n",
        "python detect.py --source 0  # webcam\n",
        "                          img.jpg  # image \n",
        "                          vid.mp4  # video\n",
        "                          path/  # directory\n",
        "                          path/*.jpg  # glob\n",
        "                          'https://youtu.be/Zgi9g1ksQHc'  # YouTube\n",
        "                          'rtsp://example.com/media.mp4'  # RTSP, RTMP, HTTP stream\n",
        "```"
      ]
    },
    {
      "cell_type": "code",
      "source": [
        "# download weight.pt\n",
        "mycopyfile('/content/drive/MyDrive/Abschlussarbeit/YOLO/best.pt', '/content/yolov5/')"
      ],
      "metadata": {
        "colab": {
          "base_uri": "https://localhost:8080/"
        },
        "id": "nUVvD9hlWPBw",
        "outputId": "52834171-1ebe-448d-e114-4847fad1ac82"
      },
      "execution_count": null,
      "outputs": [
        {
          "output_type": "stream",
          "name": "stdout",
          "text": [
            "copy /content/drive/MyDrive/Abschlussarbeit/YOLO/best.pt -> /content/yolov5best.pt\n"
          ]
        }
      ]
    },
    {
      "cell_type": "code",
      "source": [
        "# download oringinal Video\n",
        "\n",
        "mycopyfile('/content/drive/MyDrive/allesImage.zip', '/content/')"
      ],
      "metadata": {
        "colab": {
          "base_uri": "https://localhost:8080/"
        },
        "id": "Bp-EQ9vvW0UM",
        "outputId": "537362e1-6f2f-4f15-b0f0-4f67797c22e1"
      },
      "execution_count": null,
      "outputs": [
        {
          "output_type": "stream",
          "name": "stdout",
          "text": [
            "copy /content/drive/MyDrive/allesImage.zip -> /content/allesImage.zip\n"
          ]
        }
      ]
    },
    {
      "cell_type": "code",
      "source": [
        "! unzip /content/allesImage.zip"
      ],
      "metadata": {
        "id": "WmdixkSW3amL"
      },
      "execution_count": null,
      "outputs": []
    },
    {
      "cell_type": "code",
      "metadata": {
        "id": "zR9ZbuQCH7FX"
      },
      "source": [
        "# Video bearbeiten\n",
        "# weight.pt nutzen\n",
        "!python detect.py --weights /content/yolov5/runs/train/exp/weights/best.pt --img 640 --conf 0.5 --source /content/yolov5/allesImage/"
      ],
      "execution_count": null,
      "outputs": []
    },
    {
      "cell_type": "code",
      "source": [
        "zipDir('/content/yolov5/runs/detect/exp', '/content/drive/MyDrive/Master_Abschlussarbeit/imageErgebnis/exp_0.5.zip')"
      ],
      "metadata": {
        "id": "jGzSTFsT5qBs"
      },
      "execution_count": null,
      "outputs": []
    },
    {
      "cell_type": "code",
      "source": [
        "# download Bearbeitet_Video\n",
        "\n",
        "mycopyfile( '/content/yolov5/runs/detect/exp3/4.mp4', '/content/drive/MyDrive/Abschlussarbeit/videoErgebnis/')"
      ],
      "metadata": {
        "id": "G-E0mwMFSWSf"
      },
      "execution_count": null,
      "outputs": []
    }
  ]
}